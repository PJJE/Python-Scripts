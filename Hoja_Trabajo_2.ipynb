{
 "cells": [
  {
   "attachments": {},
   "cell_type": "markdown",
   "metadata": {},
   "source": [
    "# Ciencia de Datos en Python"
   ]
  },
  {
   "attachments": {},
   "cell_type": "markdown",
   "metadata": {},
   "source": [
    "### Hoja de Trabajo 2 - Sintaxis y Estructura de Datos"
   ]
  },
  {
   "attachments": {},
   "cell_type": "markdown",
   "metadata": {},
   "source": [
    "### Pablo Jirón (22007786)"
   ]
  },
  {
   "attachments": {},
   "cell_type": "markdown",
   "metadata": {},
   "source": [
    "### Marzo 05, 2023\n"
   ]
  },
  {
   "attachments": {},
   "cell_type": "markdown",
   "metadata": {},
   "source": [
    "Parte #1 - (Programación y Sintaxis): A continuación se le muestran una lista de ejercicios que debeía completar utilizando Python, debe usar Markdown para indicar donde inicia cada uno de los ejercicios."
   ]
  },
  {
   "attachments": {},
   "cell_type": "markdown",
   "metadata": {},
   "source": [
    "1. Haga un programa en Python que reciba de parámetro un número de segundos y que despliegue en pantalla, las horas, minutos y segundos que representan. Por ejemplo:"
   ]
  },
  {
   "attachments": {},
   "cell_type": "markdown",
   "metadata": {},
   "source": [
    "a) Si el número de segundos recibidos fuera: 2743 entonces su programa debería desplegar: Horas: 0, Minutos: 45, Segundos: 43."
   ]
  },
  {
   "attachments": {},
   "cell_type": "markdown",
   "metadata": {},
   "source": [
    "b) Si el número de segundos recibidos fuera 5871: Horas: 1, Minutos: 37, Segundos: 51."
   ]
  },
  {
   "attachments": {},
   "cell_type": "markdown",
   "metadata": {},
   "source": [
    "Recuerde manejar excepciones y errores que considere necesarios."
   ]
  },
  {
   "cell_type": "code",
   "execution_count": 8,
   "metadata": {},
   "outputs": [
    {
     "name": "stdout",
     "output_type": "stream",
     "text": [
      "Horas: 1, Minutos: 37, Segundos: 51\n"
     ]
    }
   ],
   "source": [
    "Segundos=int(input('Ingrese los segundos: '))\n",
    "\n",
    "Horas=Segundos//(60*60)\n",
    "Segundos=Segundos%(60*60)\n",
    "Minutos=Segundos//60\n",
    "Segundos=Segundos%60\n",
    "print('Horas: {}, Minutos: {}, Segundos: {}'.format(Horas, Minutos, Segundos))"
   ]
  },
  {
   "attachments": {},
   "cell_type": "markdown",
   "metadata": {},
   "source": [
    "2. Haga una función en Python que dado un número entre 1 y 20. Y un carácter cualquiera despliegue cuatro patrones triangulares. Por ejemplo si el usuario ingresara el número 4 y el símbolo * el programa debería desplegar lo siguiente:"
   ]
  },
  {
   "cell_type": "code",
   "execution_count": 13,
   "metadata": {},
   "outputs": [
    {
     "name": "stdout",
     "output_type": "stream",
     "text": [
      "\n",
      "*\n",
      "**\n",
      "***\n",
      "****\n",
      "*****\n"
     ]
    }
   ],
   "source": [
    "# Triángulo 1:\n",
    "asteriscos=int(input('Ingrese el número de filas'))\n",
    "for x in range(asteriscos+1):\n",
    "    print('*'*x)"
   ]
  },
  {
   "cell_type": "code",
   "execution_count": 15,
   "metadata": {},
   "outputs": [
    {
     "name": "stdout",
     "output_type": "stream",
     "text": [
      "     \n",
      "    *\n",
      "   **\n",
      "  ***\n",
      " ****\n",
      "*****\n"
     ]
    }
   ],
   "source": [
    "# Triángulo 2:\n",
    "asteriscos=int(input('Ingrese el número de filas'))\n",
    "for x in range(asteriscos+1):\n",
    "    espacios=(asteriscos-x)\n",
    "    print(' '*espacios+'*'*x)"
   ]
  },
  {
   "cell_type": "code",
   "execution_count": 32,
   "metadata": {},
   "outputs": [
    {
     "ename": "TypeError",
     "evalue": "'int' object is not reversible",
     "output_type": "error",
     "traceback": [
      "\u001b[1;31m---------------------------------------------------------------------------\u001b[0m",
      "\u001b[1;31mTypeError\u001b[0m                                 Traceback (most recent call last)",
      "\u001b[1;32m~\\AppData\\Local\\Temp\\ipykernel_9808\\3528241639.py\u001b[0m in \u001b[0;36m<module>\u001b[1;34m\u001b[0m\n\u001b[0;32m      2\u001b[0m \u001b[0masteriscos\u001b[0m\u001b[1;33m=\u001b[0m\u001b[0mint\u001b[0m\u001b[1;33m(\u001b[0m\u001b[0minput\u001b[0m\u001b[1;33m(\u001b[0m\u001b[1;34m'Ingrese el número de filas'\u001b[0m\u001b[1;33m)\u001b[0m\u001b[1;33m)\u001b[0m\u001b[1;33m\u001b[0m\u001b[1;33m\u001b[0m\u001b[0m\n\u001b[0;32m      3\u001b[0m \u001b[1;32mfor\u001b[0m \u001b[0mx\u001b[0m \u001b[1;32min\u001b[0m \u001b[0mrange\u001b[0m\u001b[1;33m(\u001b[0m\u001b[0masteriscos\u001b[0m\u001b[1;33m+\u001b[0m\u001b[1;36m1\u001b[0m\u001b[1;33m)\u001b[0m\u001b[1;33m:\u001b[0m\u001b[1;33m\u001b[0m\u001b[1;33m\u001b[0m\u001b[0m\n\u001b[1;32m----> 4\u001b[1;33m     \u001b[0mast2\u001b[0m\u001b[1;33m=\u001b[0m\u001b[0mreversed\u001b[0m\u001b[1;33m(\u001b[0m\u001b[0masteriscos\u001b[0m\u001b[1;33m)\u001b[0m\u001b[1;33m\u001b[0m\u001b[1;33m\u001b[0m\u001b[0m\n\u001b[0m\u001b[0;32m      5\u001b[0m     \u001b[0mprint\u001b[0m\u001b[1;33m(\u001b[0m\u001b[0mast2\u001b[0m\u001b[1;33m(\u001b[0m\u001b[1;34m'*'\u001b[0m\u001b[1;33m*\u001b[0m\u001b[0mx\u001b[0m\u001b[1;33m)\u001b[0m\u001b[1;33m)\u001b[0m\u001b[1;33m\u001b[0m\u001b[1;33m\u001b[0m\u001b[0m\n",
      "\u001b[1;31mTypeError\u001b[0m: 'int' object is not reversible"
     ]
    }
   ],
   "source": [
    "# Triángulo 3:\n",
    "asteriscos=int(input('Ingrese el número de filas'))\n",
    "for x in range(asteriscos+1):\n",
    "    ast2=reversed(asteriscos)\n",
    "    print('*'*x)"
   ]
  },
  {
   "attachments": {},
   "cell_type": "markdown",
   "metadata": {},
   "source": [
    "3. Haga un programa en Python que la fecha de nacimiento de una persona (puede ingresar por separado cada valor, es decir pedir primero día, luego mes y luego año), despliegue la edad de la persona en años, meses y días. Su resultado puede ser aproximado."
   ]
  },
  {
   "cell_type": "code",
   "execution_count": 22,
   "metadata": {},
   "outputs": [
    {
     "name": "stdout",
     "output_type": "stream",
     "text": [
      "Marzo\n",
      "Su edad es de 1979 años, 3 meses y 5 días\n"
     ]
    }
   ],
   "source": [
    "día=int(input('Ingrese su día de nacimiento: '))\n",
    "mes=int(input('Ingrese su mes de nacimiento: '))\n",
    "año=int(input('Ingrese su año de nacimiento: '))\n",
    "\n",
    "if(mes>=1 and mes<=12):\n",
    "    if(mes==1):\n",
    "        print('Enero')\n",
    "    elif(mes==2):\n",
    "        print('Febrero')\n",
    "    elif(mes==3):\n",
    "        print('Marzo')\n",
    "    elif(mes==4):\n",
    "        print('Abril')\n",
    "    elif(mes==5):\n",
    "        print('Mayo')\n",
    "    elif(mes==6):\n",
    "        print('Junio')\n",
    "    elif(mes==7):\n",
    "        print('Julio')\n",
    "    elif(mes==8):\n",
    "        print('Agosto')\n",
    "    elif(mes==9):\n",
    "        print('Septiembre')\n",
    "    elif(mes==10):\n",
    "        print('Octubre')\n",
    "    elif(mes==11):\n",
    "        print('Noviembre')\n",
    "    elif(mes==12):\n",
    "        print('Diciembre')\n",
    "\n",
    "\n",
    "print('Su edad es de {} años, {} meses y {} días'.format(año, mes, día))\n"
   ]
  },
  {
   "attachments": {},
   "cell_type": "markdown",
   "metadata": {},
   "source": [
    "4. Escriba una función en Python que dada una tupla de elementos (números o letras) esta se convierta a un string. Tomar nota del siguiente ejemplo:\n",
    "    1. Si la entrada fuera: (10, 20, 40, 5, 70).\n",
    "    2. La salida deber´ıa ser: 102040570."
   ]
  },
  {
   "cell_type": "code",
   "execution_count": 33,
   "metadata": {},
   "outputs": [],
   "source": [
    "a=(10, 20, 40, 5, 70)\n",
    "resultado=''\n",
    "for item in resultado:\n",
    "    resultado=resultado+item\n",
    "    print('El string final es:', resultado)\n"
   ]
  },
  {
   "attachments": {},
   "cell_type": "markdown",
   "metadata": {},
   "source": [
    "5. Cree un programa en Python que dada una lista de tuplas, elimine las tuplas que están vacías. Tomar nota del siguiente ejemplo:\n",
    "    1. Si la lista fuera: [(), (), (’X’,), (’a’, ’b’), (’a’, ’b’, ’c’), (’d’)]\n",
    "    2. El resultado deber´ıa ser: [(’X’), (’a’, ’b’), (’a’, ’b’, ’c’), ’d’]"
   ]
  },
  {
   "cell_type": "code",
   "execution_count": 32,
   "metadata": {},
   "outputs": [
    {
     "name": "stdout",
     "output_type": "stream",
     "text": [
      "Las tuplas no vacías son: [(2, 4, 6), ('M', 'N', 'R')]\n"
     ]
    }
   ],
   "source": [
    "usuario=input('Ingrese sus tuplas en paréntesis y separadas por coma')\n",
    "try:\n",
    "    tuplas=eval(usuario)\n",
    "    tuplasok=[]\n",
    "    for tupla in tuplas:\n",
    "        if tupla:\n",
    "            tuplasok.append(tupla)\n",
    "    print('Las tuplas buenas son:', tuplasok)\n",
    "    \n",
    "except (NameError, TypeError, SyntaxError):\n",
    "    print('Use comillas para los strings.')"
   ]
  },
  {
   "attachments": {},
   "cell_type": "markdown",
   "metadata": {},
   "source": [
    "6. Cree una función en Python que dada una tupla de tuplas con números, produzca una tupla con el promedio de cada tupla individual. Tomar nota del siguiente ejemplo:\n",
    "    1. Si la tupla de entrada fuera: ((10, 10, 10, 12), (30, 45, 56, 45), (81, 80, 39, 32)).\n",
    "    2. El resultado deber´ıa ser: (10.5, 44, 58)."
   ]
  },
  {
   "cell_type": "code",
   "execution_count": 36,
   "metadata": {},
   "outputs": [
    {
     "name": "stdout",
     "output_type": "stream",
     "text": [
      "(1, 2, 3,5), ('t', 'y', 'b','u')\n"
     ]
    }
   ],
   "source": [
    "import ast\n",
    "\n",
    "def tupAvg(tupla_grande):\n",
    "    salida = []\n",
    "    for tupla in tupla_grande:\n",
    "        avg = sum(tupla) / len(tupla)\n",
    "        salida.append(avg)\n",
    "    return tuple(salida)\n",
    "entrada = input('Ingrese una tupla anidada: ')\n",
    "print(entrada)"
   ]
  },
  {
   "attachments": {},
   "cell_type": "markdown",
   "metadata": {},
   "source": [
    "7. Escribir un programa que gestione las facturas pendientes de cobro de una empresa. Las facturas se almacenarán en un diccionario donde la llave de cada factura será el número de factura (debe utilizar un numero de 4 dígitos) y el valor el coste de la factura. El programa debe preguntar al usuario si quiere añadir una nueva factura, pagar una existente o terminar. Si desea añadir una nueva factura se preguntará por el número de factura y su coste y se añadirá al diccionario, para confirmar que la factura se ingreso correctamente el programa debe desplegar el diccionario completo. Si se desea pagar una factura se preguntará por el número de factura y se eliminará del diccionario. Después de cada operación el programa debe mostrar en pantalla la cantidad cobrada hasta el momento y la cantidad pendiente de cobro. Puede utilizar otras estructuras de datos como apoyo si lo considera necesario."
   ]
  },
  {
   "attachments": {},
   "cell_type": "markdown",
   "metadata": {},
   "source": [
    "8. Haga una función en Python, que cree un set con todas las cartas de una baraja de Pocker utilizando el siguiente formato: Tipo-Numero. Utilice las letras T para tréboles, C para corazones, P para picas y E para espadas. Para los números utilice la numeración del 1 al 13. Por ejemplo E13 - sería Rey de Espadas, P01 sería As de Picas, T05 sería cinco de Tréboles. Posteriormente cree una función que dado el conjunto anterior cree dos sets nuevos de cartas, cada conjunto debe tener una cantidad variable de elementos, puede utilizar números aleatorios enteros para definir la longitud de los conjuntos. Adicionalmente, deberá calcular la probabilidad de la intersección de ambos conjuntos y demuestre si son eventos independientes con la regla del producto. Para concluir, calcule probabilidad de la unión de ambos conjuntos y demuestre que se cumple la regla de la adición."
   ]
  },
  {
   "cell_type": "code",
   "execution_count": 1,
   "metadata": {},
   "outputs": [
    {
     "name": "stdout",
     "output_type": "stream",
     "text": [
      "['C', 'P', 'E', 'T']\n",
      "[1, 2, 3, 4, 5, 6, 7, 8, 9, 10, 11, 12, 13]\n"
     ]
    }
   ],
   "source": [
    "# Creamos las variables:\n",
    "tipos=['C','P','E','T']\n",
    "numeros=list(range(1,14,1))\n",
    "print(tipos)\n",
    "print(numeros)"
   ]
  },
  {
   "cell_type": "code",
   "execution_count": 2,
   "metadata": {},
   "outputs": [
    {
     "name": "stdout",
     "output_type": "stream",
     "text": [
      "C\n",
      "1\n",
      "2\n",
      "3\n",
      "4\n",
      "5\n",
      "6\n",
      "7\n",
      "8\n",
      "9\n",
      "10\n",
      "11\n",
      "12\n",
      "13\n",
      "P\n",
      "1\n",
      "2\n",
      "3\n",
      "4\n",
      "5\n",
      "6\n",
      "7\n",
      "8\n",
      "9\n",
      "10\n",
      "11\n",
      "12\n",
      "13\n",
      "E\n",
      "1\n",
      "2\n",
      "3\n",
      "4\n",
      "5\n",
      "6\n",
      "7\n",
      "8\n",
      "9\n",
      "10\n",
      "11\n",
      "12\n",
      "13\n",
      "T\n",
      "1\n",
      "2\n",
      "3\n",
      "4\n",
      "5\n",
      "6\n",
      "7\n",
      "8\n",
      "9\n",
      "10\n",
      "11\n",
      "12\n",
      "13\n"
     ]
    }
   ],
   "source": [
    "# Los mezclamos:\n",
    "for tipo in tipos:\n",
    "    print(tipo)\n",
    "    for numero in numeros:\n",
    "        print(numero)"
   ]
  },
  {
   "cell_type": "code",
   "execution_count": 3,
   "metadata": {},
   "outputs": [
    {
     "data": {
      "text/plain": [
       "['C1',\n",
       " 'C2',\n",
       " 'C3',\n",
       " 'C4',\n",
       " 'C5',\n",
       " 'C6',\n",
       " 'C7',\n",
       " 'C8',\n",
       " 'C9',\n",
       " 'C10',\n",
       " 'C11',\n",
       " 'C12',\n",
       " 'C13',\n",
       " 'P1',\n",
       " 'P2',\n",
       " 'P3',\n",
       " 'P4',\n",
       " 'P5',\n",
       " 'P6',\n",
       " 'P7',\n",
       " 'P8',\n",
       " 'P9',\n",
       " 'P10',\n",
       " 'P11',\n",
       " 'P12',\n",
       " 'P13',\n",
       " 'E1',\n",
       " 'E2',\n",
       " 'E3',\n",
       " 'E4',\n",
       " 'E5',\n",
       " 'E6',\n",
       " 'E7',\n",
       " 'E8',\n",
       " 'E9',\n",
       " 'E10',\n",
       " 'E11',\n",
       " 'E12',\n",
       " 'E13',\n",
       " 'T1',\n",
       " 'T2',\n",
       " 'T3',\n",
       " 'T4',\n",
       " 'T5',\n",
       " 'T6',\n",
       " 'T7',\n",
       " 'T8',\n",
       " 'T9',\n",
       " 'T10',\n",
       " 'T11',\n",
       " 'T12',\n",
       " 'T13']"
      ]
     },
     "execution_count": 3,
     "metadata": {},
     "output_type": "execute_result"
    }
   ],
   "source": [
    "# Finalmente lo metemos todo en una función:\n",
    "def create_pocker():\n",
    "    tipos=['C','P','E','T']\n",
    "    numeros=list(range(1,14,1))\n",
    "\n",
    "    baraja=[]\n",
    "    for tipo in tipos:\n",
    "        for numero in numeros:\n",
    "            carta=tipo+str(numero)\n",
    "            baraja.append(carta)\n",
    "\n",
    "    return baraja\n",
    "\n",
    "baraja=create_pocker()\n",
    "baraja"
   ]
  },
  {
   "cell_type": "code",
   "execution_count": 5,
   "metadata": {},
   "outputs": [
    {
     "name": "stdout",
     "output_type": "stream",
     "text": [
      "['P5', 'C6', 'C1', 'E1', 'E13', 'C4', 'C9', 'T5', 'C8', 'E9', 'T10', 'T9', 'E5', 'E6', 'C10', 'T13', 'P2', 'E7', 'T2', 'E10', 'E11']\n",
      "['C4', 'E13', 'C10', 'E4']\n"
     ]
    }
   ],
   "source": [
    "#Segunda parte del ejercicio:\n",
    "import random\n",
    "\n",
    "cantidad=random.randint(1,26)\n",
    "setA=random.sample(baraja,cantidad)\n",
    "\n",
    "cantidad=random.randint(1,26)\n",
    "setB=random.sample(baraja,cantidad)\n",
    "\n",
    "print(setA)\n",
    "print(setB)"
   ]
  },
  {
   "cell_type": "code",
   "execution_count": 6,
   "metadata": {},
   "outputs": [
    {
     "name": "stdout",
     "output_type": "stream",
     "text": [
      "{'E1', 'C2', 'T4', 'T1', 'E5', 'C13', 'P5', 'P3', 'E3', 'E7', 'C9', 'P6', 'C5', 'P8', 'T7', 'C10'}\n",
      "{'C12', 'P1', 'C4', 'C1', 'E12', 'E1', 'C6', 'C13', 'E2', 'P11', 'T7', 'C10', 'P9', 'E3', 'C5', 'C7', 'C3', 'E13', 'P6', 'E4', 'T13'}\n"
     ]
    }
   ],
   "source": [
    "#Ahora los volvemos \"conjuntos\":\n",
    "cantidad=random.randint(1,26)\n",
    "setA=set(random.sample(baraja,cantidad))\n",
    "\n",
    "cantidad=random.randint(1,26)\n",
    "setB=set(random.sample(baraja,cantidad))\n",
    "\n",
    "print(setA)\n",
    "print(setB)"
   ]
  }
 ],
 "metadata": {
  "kernelspec": {
   "display_name": "base",
   "language": "python",
   "name": "python3"
  },
  "language_info": {
   "codemirror_mode": {
    "name": "ipython",
    "version": 3
   },
   "file_extension": ".py",
   "mimetype": "text/x-python",
   "name": "python",
   "nbconvert_exporter": "python",
   "pygments_lexer": "ipython3",
   "version": "3.9.13"
  },
  "orig_nbformat": 4
 },
 "nbformat": 4,
 "nbformat_minor": 2
}
